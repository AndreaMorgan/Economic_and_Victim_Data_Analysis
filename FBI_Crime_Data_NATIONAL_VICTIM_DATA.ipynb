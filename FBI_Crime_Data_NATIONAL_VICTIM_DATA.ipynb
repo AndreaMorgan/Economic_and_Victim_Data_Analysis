{
 "cells": [
  {
   "cell_type": "code",
   "execution_count": null,
   "metadata": {},
   "outputs": [],
   "source": [
    "#Description:\n",
    "#   Initial and simple analysis of FBI Crime Data prior to 7/11 class\n",
    "#   victim-data-controller : Endpoints pertaining to NIBRS Victim Demographic data (NATIONAL)\n",
    "#\n",
    "#Modification History:\n",
    "#   DD-MMM-YYY  Author          Description\n",
    "#   10-07-2019  Stacey Smith    INITIAL CREATION\n"
   ]
  },
  {
   "cell_type": "code",
   "execution_count": null,
   "metadata": {},
   "outputs": [],
   "source": [
    "# Dependencies and Setup\n",
    "import matplotlib.pyplot as plt\n",
    "import pandas as pd\n",
    "import numpy as np\n",
    "import requests\n",
    "import json\n",
    "import csv\n",
    "\n",
    "from pprint import pprint\n",
    "\n",
    "# Import DATA.GOV API key\n",
    "from api_keys import dg_key\n",
    "\n",
    "# Output File (CSV)\n",
    "output_data_file = \"output_data/fbi_crime_data.csv\""
   ]
  },
  {
   "cell_type": "code",
   "execution_count": null,
   "metadata": {},
   "outputs": [],
   "source": [
    "#API Call to National-level victim-data-controller for homicide only \n",
    "# \n",
    "#FORMAT:  https://api.usa.gov/crime/fbi/sapi/api/data/nibrs/{offense}/victim/national/{variable}?api_key=\n",
    "\n",
    "age_query_url = \"https://api.usa.gov/crime/fbi/sapi/api/data/nibrs/homicide/victim/national/age?api_key=\" + dg_key\n",
    "#count_query_url = \"https://api.usa.gov/crime/fbi/sapi/api/data/nibrs/homicide/victim/national/count?api_key=\" + dg_key\n",
    "ethnicity_query_url = \"https://api.usa.gov/crime/fbi/sapi/api/data/nibrs/homicide/victim/national/ethnicity?api_key=\" + dg_key\n",
    "sex_query_url = \"https://api.usa.gov/crime/fbi/sapi/api/data/nibrs/homicide/victim/national/sex?api_key=\" + dg_key\n",
    "race_query_url = \"https://api.usa.gov/crime/fbi/sapi/api/data/nibrs/homicide/victim/national/race?api_key=\" + dg_key\n",
    "relationship_query_url = \"https://api.usa.gov/crime/fbi/sapi/api/data/nibrs/homicide/victim/national/relationship?api_key=\" + dg_key\n",
    "\n",
    "\n",
    "age_response = requests.get(age_query_url).json()\n",
    "#count_response = requests.get(count_query_url).json()  ........... can't find any documentation on what the count means\n",
    "ethnicity_response = requests.get(ethnicity_query_url).json()\n",
    "sex_response = requests.get(sex_query_url).json()\n",
    "race_response = requests.get(race_query_url).json()\n",
    "relationship_response = requests.get(relationship_query_url).json()\n"
   ]
  },
  {
   "cell_type": "code",
   "execution_count": null,
   "metadata": {},
   "outputs": [],
   "source": [
    "pprint(relationship_response)"
   ]
  },
  {
   "cell_type": "code",
   "execution_count": null,
   "metadata": {},
   "outputs": [],
   "source": [
    "#Age data looks pretty straightforward - count of victims by age, by year \n",
    "\n",
    "age_data = pd.DataFrame(age_response['results'])\n",
    "age_data.sort_values(by='data_year', ascending=False)\n",
    "\n",
    "age_data.head()"
   ]
  },
  {
   "cell_type": "code",
   "execution_count": null,
   "metadata": {},
   "outputs": [],
   "source": [
    "#Ethnicity data counts by hispanic vs. non-hispanic.  Not sure what multiple means or what ethnicities are encompassed by \"unknown\"\n",
    "#Federal policy classifies \"hispanic\" as ethnicity, not race\n",
    "\n",
    "eth_data = pd.DataFrame(ethnicity_response['results'])\n",
    "eth_data.sort_values(by='data_year', ascending=False)\n",
    "\n",
    "eth_data.head()"
   ]
  },
  {
   "cell_type": "code",
   "execution_count": null,
   "metadata": {},
   "outputs": [],
   "source": [
    "# Sex data - male, female and unknown by year\n",
    "\n",
    "sex_data = pd.DataFrame(sex_response['results'])\n",
    "sex_data.sort_values(by='data_year', ascending=False)\n",
    "\n",
    "sex_data.head()"
   ]
  },
  {
   "cell_type": "code",
   "execution_count": null,
   "metadata": {},
   "outputs": [],
   "source": [
    "# Race data - american_indian, asian, black, native_hawaiian, and white by year.  Not sure what \"unknown\" encompasses.\n",
    "\n",
    "race_data = pd.DataFrame(race_response['results'])\n",
    "race_data.sort_values(by='data_year', ascending=False)\n",
    "\n",
    "race_data.head()"
   ]
  },
  {
   "cell_type": "code",
   "execution_count": null,
   "metadata": {},
   "outputs": [],
   "source": [
    "# Relationship data ... looooots of categories\n",
    "\n",
    "rel_data = pd.DataFrame(relationship_response['results'])\n",
    "rel_data.sort_values(by='data_year', ascending=False)\n",
    "\n",
    "rel_data.head()"
   ]
  },
  {
   "cell_type": "code",
   "execution_count": null,
   "metadata": {},
   "outputs": [],
   "source": []
  }
 ],
 "metadata": {
  "kernelspec": {
   "display_name": "Python 3",
   "language": "python",
   "name": "python3"
  },
  "language_info": {
   "codemirror_mode": {
    "name": "ipython",
    "version": 3
   },
   "file_extension": ".py",
   "mimetype": "text/x-python",
   "name": "python",
   "nbconvert_exporter": "python",
   "pygments_lexer": "ipython3",
   "version": "3.7.3"
  }
 },
 "nbformat": 4,
 "nbformat_minor": 2
}
