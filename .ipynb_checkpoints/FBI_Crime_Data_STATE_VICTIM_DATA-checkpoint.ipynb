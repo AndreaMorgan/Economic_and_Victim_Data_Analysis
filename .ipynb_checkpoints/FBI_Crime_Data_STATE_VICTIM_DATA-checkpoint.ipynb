{
 "cells": [
  {
   "cell_type": "code",
   "execution_count": null,
   "metadata": {},
   "outputs": [],
   "source": [
    "#Description:\n",
    "#   Initial and simple analysis of FBI Crime Data prior to 7/11 class\n",
    "#   victim-data-controller : Endpoints pertaining to NIBRS Victim Demographic data (STATE)\n",
    "#\n",
    "#Modification History:\n",
    "#   DD-MMM-YYY  Author          Description\n",
    "#   10-07-2019  Stacey Smith    INITIAL CREATION\n"
   ]
  },
  {
   "cell_type": "code",
   "execution_count": null,
   "metadata": {},
   "outputs": [],
   "source": [
    "# Dependencies and Setup\n",
    "import matplotlib.pyplot as plt\n",
    "import pandas as pd\n",
    "import numpy as np\n",
    "import requests\n",
    "import json\n",
    "import csv\n",
    "\n",
    "from pprint import pprint\n",
    "\n",
    "# Import DATA.GOV API key\n",
    "from api_keys import dg_key\n",
    "\n",
    "# Output File (CSV)\n",
    "output_data_file = \"output_data/fbi_crime_data_state.csv\"\n",
    "\n",
    "#States .csv file\n",
    "path = \"Resources/states.csv\"\n",
    "states_df = pd.read_csv(path, encoding='ISO-8859-1', header=None)\n",
    "states_df.head()"
   ]
  },
  {
   "cell_type": "code",
   "execution_count": null,
   "metadata": {},
   "outputs": [],
   "source": [
    "states = (states_df.iloc[:, 1]).astype(str)\n",
    "age_queries = []\n",
    "\n",
    "for i in states:\n",
    "    age_query_url = \"https://api.usa.gov/crime/fbi/sapi/api/data/nibrs/homicide/victim/states/\" + i + \"/age?api_key=\" + dg_key\n",
    "    age_queries.append(age_query_url)\n",
    "    #age_response_state = requests.get(age_query_url).json\n",
    "    \n",
    "#age_queries\n",
    "\n",
    "age_results = []\n",
    "    \n",
    "for i in age_queries:\n",
    "    age_response = requests.get(i).json()\n",
    "    age_results.append([{i : age_response}])\n",
    "    \n",
    "age_results"
   ]
  },
  {
   "cell_type": "code",
   "execution_count": null,
   "metadata": {},
   "outputs": [],
   "source": []
  }
 ],
 "metadata": {
  "kernelspec": {
   "display_name": "Python 3",
   "language": "python",
   "name": "python3"
  },
  "language_info": {
   "codemirror_mode": {
    "name": "ipython",
    "version": 3
   },
   "file_extension": ".py",
   "mimetype": "text/x-python",
   "name": "python",
   "nbconvert_exporter": "python",
   "pygments_lexer": "ipython3",
   "version": "3.7.3"
  }
 },
 "nbformat": 4,
 "nbformat_minor": 2
}
