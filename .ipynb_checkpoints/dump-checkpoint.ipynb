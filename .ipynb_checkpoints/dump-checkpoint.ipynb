{
 "cells": [
  {
   "cell_type": "code",
   "execution_count": null,
   "metadata": {},
   "outputs": [],
   "source": [
    "#put the age_response data into individual lists\n",
    "\n",
    "age_data = age_response['results']\n",
    "age_years = age_data[0]['data_year']\n",
    "\n",
    "years = []\n",
    "\n",
    "for age_years in age_data:\n",
    "    years.append(age_years['data_year'])\n",
    "    \n",
    "years\n",
    "\n",
    "age_data = age_response['results']\n",
    "age_range1 = age_data[0]['range_0_9']\n",
    "\n",
    "range1 = []\n",
    "\n",
    "for age_range1 in age_data:\n",
    "    range1.append(age_range1['range_0_9'])\n",
    "\n",
    "range1\n",
    "    \n",
    "\n",
    "    \n",
    "    \n",
    "    states = (state.iloc[:, 1]).astype(str)#states = (state.iloc[:, 1]).astype(str)"
   ]
  }
 ],
 "metadata": {
  "kernelspec": {
   "display_name": "Python 3",
   "language": "python",
   "name": "python3"
  },
  "language_info": {
   "codemirror_mode": {
    "name": "ipython",
    "version": 3
   },
   "file_extension": ".py",
   "mimetype": "text/x-python",
   "name": "python",
   "nbconvert_exporter": "python",
   "pygments_lexer": "ipython3",
   "version": "3.7.3"
  }
 },
 "nbformat": 4,
 "nbformat_minor": 2
}
