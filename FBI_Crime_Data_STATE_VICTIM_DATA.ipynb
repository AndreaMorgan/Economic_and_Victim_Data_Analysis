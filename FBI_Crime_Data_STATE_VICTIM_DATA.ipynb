{
 "cells": [
  {
   "cell_type": "code",
   "execution_count": null,
   "metadata": {},
   "outputs": [],
   "source": [
    "#Description:\n",
    "#   Initial and simple analysis of FBI Crime Data prior to 7/11 class\n",
    "#   victim-data-controller : Endpoints pertaining to NIBRS Victim Demographic data (STATE)\n",
    "#\n",
    "#Modification History:\n",
    "#   DD-MMM-YYY  Author          Description\n",
    "#   10-07-2019  Stacey Smith    INITIAL CREATION\n"
   ]
  },
  {
   "cell_type": "code",
   "execution_count": 1,
   "metadata": {},
   "outputs": [],
   "source": [
    "# Dependencies and Setup\n",
    "import matplotlib.pyplot as plt\n",
    "import pandas as pd\n",
    "import numpy as np\n",
    "import requests\n",
    "import json\n",
    "import csv\n",
    "\n",
    "from pprint import pprint\n",
    "\n",
    "# Import DATA.GOV API key ......................REMEMBER TO PLUG IN YOUR OWN KEY NAME HERE\n",
    "from api_keys import ses_dg_key\n",
    "\n",
    "# Output File (CSV)\n",
    "output_data_file = \"output_data/fbi_crime_data_state.csv\""
   ]
  },
  {
   "cell_type": "code",
   "execution_count": null,
   "metadata": {},
   "outputs": [],
   "source": [
    "#Clunky but works.  There are 3 pages of data for states.  \n",
    "#This pulls the data for each page and combines it all into one usable dataframe: state_data\n",
    "\n",
    "state_qry = \"https://api.usa.gov/crime/fbi/sapi/api/states?api_key=\" + ses_dg_key \n",
    "state_results_1 = requests.get(state_qry, params={'page':0}).json()\n",
    "state_results_2 = requests.get(state_qry, params={'page':1}).json()\n",
    "state_results_3 = requests.get(state_qry, params={'page':2}).json()\n",
    "\n",
    "sr1_df = pd.DataFrame(state_results_1['results'])\n",
    "sr2_df = pd.DataFrame(state_results_2['results'])\n",
    "sr3_df = pd.DataFrame(state_results_3['results'])\n",
    "\n",
    "\n",
    "state_data = pd.concat([sr1_df, sr2_df, sr3_df])\n",
    "state_data"
   ]
  },
  {
   "cell_type": "code",
   "execution_count": 70,
   "metadata": {},
   "outputs": [],
   "source": [
    "#Using state_data to dynamically build our list of queries, one for each state in state_data\n",
    "#Will return a list of query urls:  age_queries\n",
    "#Also creates a new list of just the state abbreviations:  state_abbr\n",
    "\n",
    "states = (state_data.iloc[:,1]).astype(str)\n",
    "\n",
    "age_queries = []\n",
    "state_abbr = []\n",
    "\n",
    "for i in states:\n",
    "    age_query_url = \"https://api.usa.gov/crime/fbi/sapi/api/data/nibrs/homicide/victim/states/\" + i + \"/age?api_key=\" + ses_dg_key\n",
    "    age_queries.append(age_query_url)\n",
    "    state_abbr.append(states)\n",
    "    #age_response_state = requests.get(age_query_url).json\n",
    "    \n",
    "#age_queries\n",
    "#state_abbr"
   ]
  },
  {
   "cell_type": "code",
   "execution_count": null,
   "metadata": {},
   "outputs": [],
   "source": [
    "#Building the age data specific query using the age_queries URL\n",
    "#\n",
    "#This results in a list of dictionaries that show the age range results per state.\n",
    "#HOWEVER .... there is no key for the state_abbr to confirm that the data shown is indeed tied to the specific state.\n",
    "#I can use i in the age_results.append to include the query url in the age_results, but that query url isn't helpful.\n",
    "#What I really want to do is get each state abbreviation included in each dictionary for each state. \n",
    "#IOW:  HELP! :)\n",
    "\n",
    "age_results = []\n",
    "    \n",
    "for i in age_queries:\n",
    "    age_response = requests.get(i).json()\n",
    "    age_results.append(age_response)\n",
    "age_results\n",
    "\n",
    "\n",
    "#age_data = pd.DataFrame(age_results)\n",
    "#age_data.sort_values(by='data_year', ascending=False)\n",
    "\n",
    "#age_data.head()"
   ]
  },
  {
   "cell_type": "code",
   "execution_count": null,
   "metadata": {},
   "outputs": [],
   "source": []
  }
 ],
 "metadata": {
  "kernelspec": {
   "display_name": "Python 3",
   "language": "python",
   "name": "python3"
  },
  "language_info": {
   "codemirror_mode": {
    "name": "ipython",
    "version": 3
   },
   "file_extension": ".py",
   "mimetype": "text/x-python",
   "name": "python",
   "nbconvert_exporter": "python",
   "pygments_lexer": "ipython3",
   "version": "3.7.3"
  }
 },
 "nbformat": 4,
 "nbformat_minor": 2
}
